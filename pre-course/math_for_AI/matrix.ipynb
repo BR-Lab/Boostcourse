{
 "cells": [
  {
   "cell_type": "code",
   "execution_count": 9,
   "id": "46fd3cae",
   "metadata": {},
   "outputs": [],
   "source": [
    "import numpy as np\n",
    "\n",
    "X = np.array([[1,-2,3],\n",
    "             [7,5,0],\n",
    "             [-2,-1,2]])"
   ]
  },
  {
   "cell_type": "code",
   "execution_count": 10,
   "id": "0d743401",
   "metadata": {},
   "outputs": [],
   "source": [
    "Y = np.array([[0,1],\n",
    "            [1,-1],\n",
    "            [-2,1]])"
   ]
  },
  {
   "cell_type": "code",
   "execution_count": 11,
   "id": "b81f2e09",
   "metadata": {},
   "outputs": [
    {
     "data": {
      "text/plain": [
       "array([[-8,  6],\n",
       "       [ 5,  2],\n",
       "       [-5,  1]])"
      ]
     },
     "execution_count": 11,
     "metadata": {},
     "output_type": "execute_result"
    }
   ],
   "source": [
    "X@Y"
   ]
  },
  {
   "cell_type": "code",
   "execution_count": 12,
   "id": "a6f3a27c",
   "metadata": {},
   "outputs": [
    {
     "data": {
      "text/plain": [
       "array([[ 1,  7, -2],\n",
       "       [-2,  5, -1],\n",
       "       [ 3,  0,  2]])"
      ]
     },
     "execution_count": 12,
     "metadata": {},
     "output_type": "execute_result"
    }
   ],
   "source": [
    "np.transpose(X)"
   ]
  },
  {
   "cell_type": "code",
   "execution_count": 13,
   "id": "1fbf8196",
   "metadata": {},
   "outputs": [],
   "source": [
    "Y = np.array([[0,1,-1],\n",
    "            [1,-1,0]])"
   ]
  },
  {
   "cell_type": "code",
   "execution_count": 14,
   "id": "39a57eeb",
   "metadata": {},
   "outputs": [
    {
     "data": {
      "text/plain": [
       "array([[-5,  3],\n",
       "       [ 5,  2],\n",
       "       [-3, -1]])"
      ]
     },
     "execution_count": 14,
     "metadata": {},
     "output_type": "execute_result"
    }
   ],
   "source": [
    "np.inner(X,Y)"
   ]
  },
  {
   "cell_type": "code",
   "execution_count": 17,
   "id": "ee72855a",
   "metadata": {},
   "outputs": [
    {
     "data": {
      "text/plain": [
       "array([[ 0.21276596,  0.0212766 , -0.31914894],\n",
       "       [-0.29787234,  0.17021277,  0.44680851],\n",
       "       [ 0.06382979,  0.10638298,  0.40425532]])"
      ]
     },
     "execution_count": 17,
     "metadata": {},
     "output_type": "execute_result"
    }
   ],
   "source": [
    "# 역행렬\n",
    "X_inv = np.linalg.inv(X)\n",
    "X_inv"
   ]
  },
  {
   "cell_type": "code",
   "execution_count": 18,
   "id": "d17669ed",
   "metadata": {},
   "outputs": [
    {
     "data": {
      "text/plain": [
       "array([[ 1.00000000e+00, -1.38777878e-17,  0.00000000e+00],\n",
       "       [ 0.00000000e+00,  1.00000000e+00, -5.55111512e-17],\n",
       "       [-2.77555756e-17,  0.00000000e+00,  1.00000000e+00]])"
      ]
     },
     "execution_count": 18,
     "metadata": {},
     "output_type": "execute_result"
    }
   ],
   "source": [
    "X@X_inv"
   ]
  },
  {
   "cell_type": "code",
   "execution_count": 20,
   "id": "f7d3abb3",
   "metadata": {},
   "outputs": [
    {
     "data": {
      "text/plain": [
       "array([[ 0.33333333,  0.66666667],\n",
       "       [ 0.33333333, -0.33333333],\n",
       "       [-0.66666667, -0.33333333]])"
      ]
     },
     "execution_count": 20,
     "metadata": {},
     "output_type": "execute_result"
    }
   ],
   "source": [
    "#유사역행렬\n",
    "Y_inv = np.linalg.pinv(Y)\n",
    "Y_inv"
   ]
  },
  {
   "cell_type": "code",
   "execution_count": 22,
   "id": "e55e20ce",
   "metadata": {},
   "outputs": [
    {
     "data": {
      "text/plain": [
       "array([[ 1.00000000e+00, -4.44089210e-16],\n",
       "       [ 1.66533454e-16,  1.00000000e+00]])"
      ]
     },
     "execution_count": 22,
     "metadata": {},
     "output_type": "execute_result"
    }
   ],
   "source": [
    "#n<m이니까 YY+\n",
    "Y@Y_inv"
   ]
  },
  {
   "cell_type": "code",
   "execution_count": 23,
   "id": "3729fbb7",
   "metadata": {},
   "outputs": [
    {
     "data": {
      "text/plain": [
       "array([ 1., -3.,  2.])"
      ]
     },
     "execution_count": 23,
     "metadata": {},
     "output_type": "execute_result"
    }
   ],
   "source": [
    "# 회귀분석 결과와 Moore-Penrose 역행렬 값 비교\n",
    "from sklearn.linear_model import LinearRegression\n",
    "\n",
    "X = np.array([[0,1],\n",
    "            [1,-1],\n",
    "            [-2,1]])\n",
    "y = [1,2,3]\n",
    "\n",
    "x_test = np.array([[2,-1],\n",
    "            [0,5],\n",
    "            [1,-1]])\n",
    "\n",
    "model = LinearRegression()\n",
    "model.fit(X, y)\n",
    "y_test = model.predict(x_test)\n",
    "y_test"
   ]
  },
  {
   "cell_type": "code",
   "execution_count": 27,
   "id": "e52d6f08",
   "metadata": {},
   "outputs": [
    {
     "data": {
      "text/plain": [
       "array([ 1., -3.,  2.])"
      ]
     },
     "execution_count": 27,
     "metadata": {},
     "output_type": "execute_result"
    }
   ],
   "source": [
    "#intercept를 추가해야 회귀 분석과 동일한 결과 도출됨\n",
    "\n",
    "X_ = np.array([np.append(x,[1]) for x in X]) # y절편(intercept) 항 추가\n",
    "beta = np.linalg.pinv(X_)@y\n",
    "x = np.array([np.append(x,[1]) for x in x_test])\n",
    "y_test = x @ beta\n",
    "y_test"
   ]
  },
  {
   "cell_type": "code",
   "execution_count": null,
   "id": "f2f42d94",
   "metadata": {},
   "outputs": [],
   "source": []
  }
 ],
 "metadata": {
  "kernelspec": {
   "display_name": "Python 3",
   "language": "python",
   "name": "python3"
  },
  "language_info": {
   "codemirror_mode": {
    "name": "ipython",
    "version": 3
   },
   "file_extension": ".py",
   "mimetype": "text/x-python",
   "name": "python",
   "nbconvert_exporter": "python",
   "pygments_lexer": "ipython3",
   "version": "3.8.8"
  }
 },
 "nbformat": 4,
 "nbformat_minor": 5
}
