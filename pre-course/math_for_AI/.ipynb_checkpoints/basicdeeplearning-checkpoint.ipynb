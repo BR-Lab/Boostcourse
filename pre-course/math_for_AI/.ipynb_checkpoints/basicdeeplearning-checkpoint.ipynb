{
 "cells": [
  {
   "cell_type": "markdown",
   "id": "903ad873",
   "metadata": {},
   "source": [
    "# softmax ft"
   ]
  },
  {
   "cell_type": "code",
   "execution_count": 4,
   "id": "1eb4cd73",
   "metadata": {},
   "outputs": [
    {
     "data": {
      "text/plain": [
       "array([[2.44728471e-01, 6.65240956e-01, 9.00305732e-02],\n",
       "       [9.00305732e-02, 2.44728471e-01, 6.65240956e-01],\n",
       "       [2.06106005e-09, 4.53978686e-05, 9.99954600e-01]])"
      ]
     },
     "execution_count": 4,
     "metadata": {},
     "output_type": "execute_result"
    }
   ],
   "source": [
    "import numpy as np\n",
    "\n",
    "def softmax(vec):\n",
    "    denumerator = np.exp(vec - np.max(vec, axis=-1, keepdims=True))\n",
    "    numerator = np.sum(denumerator, axis=-1, keepdims = True)\n",
    "    val = denumerator/numerator\n",
    "    return val\n",
    "\n",
    "vec = np.array([[1,2,0],\n",
    "               [-1,0,1],\n",
    "               [-10,0,10]])\n",
    "\n",
    "softmax(vec)"
   ]
  },
  {
   "cell_type": "code",
   "execution_count": 7,
   "id": "89920ef8",
   "metadata": {},
   "outputs": [
    {
     "name": "stdout",
     "output_type": "stream",
     "text": [
      "[1 2 2]\n",
      "[array([0., 1., 0.]), array([0., 0., 1.]), array([0., 0., 1.])]\n"
     ]
    }
   ],
   "source": [
    "# 추론할 때는 훈련시키는 것 보다 one_hot 벡터로 최대값을 가진 주소만 1로 출력\n",
    "\n",
    "def one_hot(val, dim):\n",
    "    return [np.eye(dim)[_] for _ in val]\n",
    "\n",
    "def one_hot_encoding(vec):\n",
    "    vec_dim = vec.shape[1]\n",
    "    vec_argmax = np.argmax(vec, axis=-1)\n",
    "    return one_hot(vec_argmax, vec_dim)\n",
    "\n",
    "vec = np.array([[1,2,0],\n",
    "               [-1,0,1],\n",
    "               [-10,0,10]])\n",
    "\n",
    "print(one_hot_encoding(vec))"
   ]
  }
 ],
 "metadata": {
  "kernelspec": {
   "display_name": "Python 3",
   "language": "python",
   "name": "python3"
  },
  "language_info": {
   "codemirror_mode": {
    "name": "ipython",
    "version": 3
   },
   "file_extension": ".py",
   "mimetype": "text/x-python",
   "name": "python",
   "nbconvert_exporter": "python",
   "pygments_lexer": "ipython3",
   "version": "3.8.8"
  }
 },
 "nbformat": 4,
 "nbformat_minor": 5
}
