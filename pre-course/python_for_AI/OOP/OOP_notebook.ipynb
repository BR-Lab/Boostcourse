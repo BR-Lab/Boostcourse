{
 "cells": [
  {
   "cell_type": "markdown",
   "id": "5cf86b56",
   "metadata": {},
   "source": [
    "# OOP 만들기 - 노트북\n",
    "\n",
    "- Note를 정리하는 프로그램\n",
    "- 사용자는 Note에 뭔가를 적을 수 있다.\n",
    "- Note에는 Content가 있고, 내용을 제거할 수 있다.\n",
    "- 두 개의 노트북을 합쳐 하나로 만들 수 있다.\n",
    "- Note는 Notebook에 삽입된다.\n",
    "- Notebook은 Note가 삽일 될 때 페이지를 생성하며,\n",
    "최고 300페이지까지 저장 가능하다\n",
    "- 300 페이지가 넘으면 더 이상 노트를 삽입하지 못한다\n",
    "\n",
    "\n",
    "\n",
    "## class schema\n",
    "\n",
    "---|Notebook|Note\n",
    "----|----|----\n",
    "method|add_note<br/>remove_note<br/>get_number_of_pages|write_content<br/>remove_all\n",
    "variable| title<br/>page_number<br/>notes|content"
   ]
  },
  {
   "cell_type": "code",
   "execution_count": 1,
   "id": "1411f204",
   "metadata": {},
   "outputs": [],
   "source": [
    "class Note():\n",
    "    def __init__(self, content = None):\n",
    "        self.content = content\n",
    "        \n",
    "    def write_content(self, content):\n",
    "        self.content = content\n",
    "        \n",
    "    def remove_all(self):\n",
    "        self.content = \"\"\n",
    "        \n",
    "    def __add__(self, other):\n",
    "        return self.content + other.content\n",
    "    \n",
    "    def __str__(self):\n",
    "        return self.content"
   ]
  },
  {
   "cell_type": "code",
   "execution_count": 2,
   "id": "1caffaa5",
   "metadata": {},
   "outputs": [],
   "source": [
    "class NoteBook():\n",
    "    def __init__(self, title):\n",
    "        self.title = title\n",
    "        self.page_number = 1\n",
    "        self.notes = {}\n",
    "        \n",
    "    def add_note(self, note, page = 0):\n",
    "        if self.page_number < 300:\n",
    "            if page == 0:\n",
    "                self.notes[self.page_number] = note\n",
    "                self.page_number += 1\n",
    "            else:\n",
    "                self.notes = {page : note}\n",
    "                self.page_number += 1\n",
    "        else:\n",
    "            print(\"Page가 모두 채워졌습니다.\")\n",
    "            \n",
    "    def remove_note(self, page_number):\n",
    "        if page_number in self.notes.keys():\n",
    "            return self.pop(page_number)\n",
    "        else:\n",
    "            print(\"해당 페이지는 존재하지 않습니다.\")\n",
    "            \n",
    "    def get_number_of_pages(self):\n",
    "        return len(self.notes.keys())"
   ]
  },
  {
   "cell_type": "code",
   "execution_count": 3,
   "id": "7f58dd6a",
   "metadata": {},
   "outputs": [
    {
     "data": {
      "text/plain": [
       "<__main__.NoteBook at 0x2c8757b5730>"
      ]
     },
     "execution_count": 3,
     "metadata": {},
     "output_type": "execute_result"
    }
   ],
   "source": [
    "my_notebook = NoteBook(\"프리코스 예제노트\")\n",
    "my_notebook"
   ]
  },
  {
   "cell_type": "code",
   "execution_count": 4,
   "id": "a5aee260",
   "metadata": {},
   "outputs": [
    {
     "data": {
      "text/plain": [
       "'프리코스 예제노트'"
      ]
     },
     "execution_count": 4,
     "metadata": {},
     "output_type": "execute_result"
    }
   ],
   "source": [
    "my_notebook.title"
   ]
  },
  {
   "cell_type": "code",
   "execution_count": 5,
   "id": "108bdbd0",
   "metadata": {},
   "outputs": [
    {
     "name": "stdout",
     "output_type": "stream",
     "text": [
      "아 수업 듣기 싫다\n"
     ]
    }
   ],
   "source": [
    "new_note = Note(\"아 수업 듣기 싫다\")\n",
    "print(new_note)"
   ]
  },
  {
   "cell_type": "code",
   "execution_count": 6,
   "id": "a97dbf2a",
   "metadata": {},
   "outputs": [
    {
     "data": {
      "text/plain": [
       "<__main__.Note at 0x2c8757b5cd0>"
      ]
     },
     "execution_count": 6,
     "metadata": {},
     "output_type": "execute_result"
    }
   ],
   "source": [
    "new_note"
   ]
  },
  {
   "cell_type": "code",
   "execution_count": 7,
   "id": "a6b50e63",
   "metadata": {},
   "outputs": [
    {
     "name": "stdout",
     "output_type": "stream",
     "text": [
      "파이썬 강의\n"
     ]
    }
   ],
   "source": [
    "new_note2 = Note(\"파이썬 강의\")\n",
    "print(new_note2)"
   ]
  },
  {
   "cell_type": "code",
   "execution_count": 22,
   "id": "eeb3a530",
   "metadata": {},
   "outputs": [
    {
     "name": "stdout",
     "output_type": "stream",
     "text": [
      "파이썬 강의\n"
     ]
    }
   ],
   "source": [
    "my_notebook.add_note(new_note2, 100)\n",
    "print(my_notebook.notes[100])"
   ]
  },
  {
   "cell_type": "code",
   "execution_count": 25,
   "id": "91a28759",
   "metadata": {},
   "outputs": [
    {
     "name": "stdout",
     "output_type": "stream",
     "text": [
      "아 수업 듣기 싫다\n"
     ]
    }
   ],
   "source": [
    "my_notebook.add_note(new_note)\n",
    "print(my_notebook.notes[5])"
   ]
  },
  {
   "cell_type": "code",
   "execution_count": 27,
   "id": "9aa28242",
   "metadata": {},
   "outputs": [
    {
     "data": {
      "text/plain": [
       "8"
      ]
     },
     "execution_count": 27,
     "metadata": {},
     "output_type": "execute_result"
    }
   ],
   "source": [
    "my_notebook.page_number"
   ]
  },
  {
   "cell_type": "code",
   "execution_count": 26,
   "id": "18f5eb7a",
   "metadata": {},
   "outputs": [
    {
     "data": {
      "text/plain": [
       "4"
      ]
     },
     "execution_count": 26,
     "metadata": {},
     "output_type": "execute_result"
    }
   ],
   "source": [
    "my_notebook.get_number_of_pages()"
   ]
  },
  {
   "cell_type": "code",
   "execution_count": 29,
   "id": "0fc4d639",
   "metadata": {},
   "outputs": [
    {
     "data": {
      "text/plain": [
       "{100: <__main__.Note at 0x2c87579f370>,\n",
       " 5: <__main__.Note at 0x2c8757b5cd0>,\n",
       " 6: <__main__.Note at 0x2c8757b5cd0>,\n",
       " 7: <__main__.Note at 0x2c8757b5cd0>}"
      ]
     },
     "execution_count": 29,
     "metadata": {},
     "output_type": "execute_result"
    }
   ],
   "source": [
    "my_notebook.notes"
   ]
  },
  {
   "cell_type": "code",
   "execution_count": 31,
   "id": "9a8eeaf7",
   "metadata": {},
   "outputs": [
    {
     "name": "stdout",
     "output_type": "stream",
     "text": [
      "아 수업 듣기 싫다\n"
     ]
    }
   ],
   "source": [
    "print(my_notebook.notes[7])"
   ]
  }
 ],
 "metadata": {
  "kernelspec": {
   "display_name": "Python 3",
   "language": "python",
   "name": "python3"
  },
  "language_info": {
   "codemirror_mode": {
    "name": "ipython",
    "version": 3
   },
   "file_extension": ".py",
   "mimetype": "text/x-python",
   "name": "python",
   "nbconvert_exporter": "python",
   "pygments_lexer": "ipython3",
   "version": "3.8.8"
  }
 },
 "nbformat": 4,
 "nbformat_minor": 5
}
