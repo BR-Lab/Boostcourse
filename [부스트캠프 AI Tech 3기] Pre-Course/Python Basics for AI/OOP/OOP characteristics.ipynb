{
 "cells": [
  {
   "cell_type": "markdown",
   "id": "b4d64c93",
   "metadata": {},
   "source": [
    "# Inheritance(상속)"
   ]
  },
  {
   "cell_type": "code",
   "execution_count": 1,
   "id": "6e727737",
   "metadata": {},
   "outputs": [],
   "source": [
    "class Person():\n",
    "    def __init__(self, name, age):\n",
    "        self.name = name\n",
    "        self.age = age\n",
    "        \n",
    "    def __str__(self):\n",
    "        return \"저의 이름은 {0} 입니다. 나이는 {1} 입니다.\".format(self.name, self.age)\n"
   ]
  },
  {
   "cell_type": "code",
   "execution_count": 2,
   "id": "d5c27a44",
   "metadata": {},
   "outputs": [],
   "source": [
    "class Korean(Person):\n",
    "    pass"
   ]
  },
  {
   "cell_type": "code",
   "execution_count": 3,
   "id": "1d8b5aeb",
   "metadata": {},
   "outputs": [
    {
     "name": "stdout",
     "output_type": "stream",
     "text": [
      "저의 이름은 Sungchul 입니다. 나이는 35 입니다.\n"
     ]
    }
   ],
   "source": [
    "first_korean = Korean(\"Sungchul\", 35)\n",
    "print(first_korean)"
   ]
  },
  {
   "cell_type": "code",
   "execution_count": 4,
   "id": "6c1ff52a",
   "metadata": {},
   "outputs": [],
   "source": [
    "class Person:\n",
    "    def __init__(self, name, age, gender):\n",
    "        self.name = name\n",
    "        self.age = age\n",
    "        self.gender = gender\n",
    "        \n",
    "    def about_me(self):\n",
    "        print(\"저의 이름은 \", self.name, \"이고요. 제 나이는 \", self.age, \"살 입니다.\")\n",
    "        \n",
    "    def __str__(self):\n",
    "        return \"저의 이름은 \", self.name, \"이고요. 제 나이는 \", self.age, \"살 입니다.\""
   ]
  },
  {
   "cell_type": "code",
   "execution_count": 12,
   "id": "619105b7",
   "metadata": {},
   "outputs": [],
   "source": [
    "class Employee(Person): # 부모 클래스 Person으로 부터 상속\n",
    "    def __init__(self, name, age, gender, salary, hire_date):\n",
    "        super().__init__(name, age, gender) # 부모객체 사용\n",
    "        self.salary = salary # 추가된 속성값들\n",
    "        self.hire_date = hire_date\n",
    "        \n",
    "    def do_work(self):\n",
    "        print(\"열심히 일을 합니다.\")\n",
    "        \n",
    "    def about_me(self): # 부모 클래스 함수 재정의\n",
    "        super().about_me() # 부모 클래스 함수 사용\n",
    "        print(\"제 급여는 \", self.salary, \"원 이고 제 입사일은 \", self.hire_date, \" 입니다.\")"
   ]
  },
  {
   "cell_type": "code",
   "execution_count": 6,
   "id": "fbca2c60",
   "metadata": {},
   "outputs": [],
   "source": [
    "myPerson = Person(\"John\", 34,  \"Male\")"
   ]
  },
  {
   "cell_type": "code",
   "execution_count": 13,
   "id": "8808115a",
   "metadata": {},
   "outputs": [],
   "source": [
    "myEmployee = Employee(\"Daeho\", 34, \"Male\", 300000, \"2012/03/01\")"
   ]
  },
  {
   "cell_type": "code",
   "execution_count": 10,
   "id": "b0f22908",
   "metadata": {},
   "outputs": [
    {
     "name": "stdout",
     "output_type": "stream",
     "text": [
      "저의 이름은  John 이고요. 제 나이는  34 살 입니다.\n"
     ]
    }
   ],
   "source": [
    "myPerson.about_me()"
   ]
  },
  {
   "cell_type": "code",
   "execution_count": 14,
   "id": "4d46efa9",
   "metadata": {},
   "outputs": [
    {
     "name": "stdout",
     "output_type": "stream",
     "text": [
      "저의 이름은  Daeho 이고요. 제 나이는  34 살 입니다.\n",
      "제 급여는  300000 원 이고 제 입사일은  2012/03/01  입니다.\n"
     ]
    }
   ],
   "source": [
    "myEmployee.about_me()"
   ]
  },
  {
   "cell_type": "markdown",
   "id": "42b5aae1",
   "metadata": {},
   "source": [
    "# Polymorphism(다형성)"
   ]
  },
  {
   "cell_type": "code",
   "execution_count": 15,
   "id": "987d5c1e",
   "metadata": {},
   "outputs": [],
   "source": [
    "class Animal:\n",
    "    def __init__(self, name):\n",
    "        self.name = name\n",
    "        \n",
    "    def talk(self): # Abstract Metohd\n",
    "        raise NotImplementedError(\"Subclass must implement abstract method\")"
   ]
  },
  {
   "cell_type": "code",
   "execution_count": 16,
   "id": "99752baf",
   "metadata": {},
   "outputs": [],
   "source": [
    "class Cat(Animal):\n",
    "    def talk(self):\n",
    "        return \"Meow!\"\n",
    "    \n",
    "class Dog(Animal):\n",
    "    def talk(self):\n",
    "        return \"Woof! Woof!\""
   ]
  },
  {
   "cell_type": "code",
   "execution_count": 17,
   "id": "e7ddad60",
   "metadata": {},
   "outputs": [],
   "source": [
    "animals = [Cat('Missy'),\n",
    "          Cat('Nabi'),\n",
    "          Dog('Bonggu')]"
   ]
  },
  {
   "cell_type": "code",
   "execution_count": 18,
   "id": "2bbde188",
   "metadata": {},
   "outputs": [
    {
     "name": "stdout",
     "output_type": "stream",
     "text": [
      "Missy: Meow!\n",
      "Nabi: Meow!\n",
      "Bonggu: Woof! Woof!\n"
     ]
    }
   ],
   "source": [
    "for animal in animals:\n",
    "    print(animal.name+\": \"+animal.talk())"
   ]
  },
  {
   "cell_type": "markdown",
   "id": "3eac31e6",
   "metadata": {},
   "source": [
    "# Visibility(가시성)"
   ]
  },
  {
   "cell_type": "code",
   "execution_count": 19,
   "id": "d35057e2",
   "metadata": {},
   "outputs": [],
   "source": [
    "class Product:\n",
    "    pass"
   ]
  },
  {
   "cell_type": "code",
   "execution_count": 22,
   "id": "927498c0",
   "metadata": {},
   "outputs": [],
   "source": [
    "class Inventory:\n",
    "    def __init__(self): \n",
    "        self.items = [] #item에 누구나 접근할 수 있는 경우\n",
    "        self.test = \"abc\"\n",
    "        \n",
    "    def add_new_item(self, product):\n",
    "        if type(product) == Product:\n",
    "            self.items.append(product)\n",
    "            print(\"new item added\")\n",
    "        else:\n",
    "            raise ValueError(\"Invalid item\")\n",
    "            \n",
    "    def get_number_of_items(self):\n",
    "        return len(self.items)"
   ]
  },
  {
   "cell_type": "code",
   "execution_count": 23,
   "id": "8802fd4a",
   "metadata": {},
   "outputs": [
    {
     "name": "stdout",
     "output_type": "stream",
     "text": [
      "new item added\n",
      "new item added\n"
     ]
    }
   ],
   "source": [
    "my_inventory = Inventory()\n",
    "my_inventory.add_new_item(Product())\n",
    "my_inventory.add_new_item(Product())"
   ]
  },
  {
   "cell_type": "code",
   "execution_count": 24,
   "id": "eb3fbbc0",
   "metadata": {},
   "outputs": [],
   "source": [
    "my_inventory.items.append(\"abd\")"
   ]
  },
  {
   "cell_type": "code",
   "execution_count": 25,
   "id": "a1f13a03",
   "metadata": {},
   "outputs": [
    {
     "data": {
      "text/plain": [
       "[<__main__.Product at 0x26a64394940>,\n",
       " <__main__.Product at 0x26a64394040>,\n",
       " 'abd']"
      ]
     },
     "execution_count": 25,
     "metadata": {},
     "output_type": "execute_result"
    }
   ],
   "source": [
    "my_inventory.items"
   ]
  },
  {
   "cell_type": "code",
   "execution_count": 27,
   "id": "b8e59dc1",
   "metadata": {},
   "outputs": [],
   "source": [
    "class Inventory:\n",
    "    def __init__(self): \n",
    "        self.__items = [] #item에 누구나 접근할 수 없도록, 완벽하게 숨겨지지는 않고 맨글링이 일어나는 것\n",
    "        \n",
    "    def add_new_item(self, product):\n",
    "        if type(product) == Product:\n",
    "            self.__items.append(product)\n",
    "            print(\"new item added\")\n",
    "        else:\n",
    "            raise ValueError(\"Invalid item\")\n",
    "            \n",
    "    def get_number_of_items(self):\n",
    "        return len(self.__items)"
   ]
  },
  {
   "cell_type": "code",
   "execution_count": 28,
   "id": "b99601c8",
   "metadata": {},
   "outputs": [
    {
     "name": "stdout",
     "output_type": "stream",
     "text": [
      "new item added\n",
      "new item added\n"
     ]
    }
   ],
   "source": [
    "my_inventory = Inventory()\n",
    "my_inventory.add_new_item(Product())\n",
    "my_inventory.add_new_item(Product())"
   ]
  },
  {
   "cell_type": "code",
   "execution_count": 32,
   "id": "6443281c",
   "metadata": {},
   "outputs": [
    {
     "ename": "AttributeError",
     "evalue": "'Inventory' object has no attribute '__items'",
     "output_type": "error",
     "traceback": [
      "\u001b[1;31m---------------------------------------------------------------------------\u001b[0m",
      "\u001b[1;31mAttributeError\u001b[0m                            Traceback (most recent call last)",
      "\u001b[1;32m<ipython-input-32-11cc93e1f4f4>\u001b[0m in \u001b[0;36m<module>\u001b[1;34m\u001b[0m\n\u001b[1;32m----> 1\u001b[1;33m \u001b[0mmy_inventory\u001b[0m\u001b[1;33m.\u001b[0m\u001b[0m__items\u001b[0m\u001b[1;33m\u001b[0m\u001b[1;33m\u001b[0m\u001b[0m\n\u001b[0m",
      "\u001b[1;31mAttributeError\u001b[0m: 'Inventory' object has no attribute '__items'"
     ]
    }
   ],
   "source": [
    "my_inventory.__items"
   ]
  },
  {
   "cell_type": "code",
   "execution_count": 33,
   "id": "24e779cd",
   "metadata": {},
   "outputs": [
    {
     "ename": "AttributeError",
     "evalue": "'Inventory' object has no attribute '__items'",
     "output_type": "error",
     "traceback": [
      "\u001b[1;31m---------------------------------------------------------------------------\u001b[0m",
      "\u001b[1;31mAttributeError\u001b[0m                            Traceback (most recent call last)",
      "\u001b[1;32m<ipython-input-33-734d77adb186>\u001b[0m in \u001b[0;36m<module>\u001b[1;34m\u001b[0m\n\u001b[1;32m----> 1\u001b[1;33m \u001b[0mmy_inventory\u001b[0m\u001b[1;33m.\u001b[0m\u001b[0m__items\u001b[0m\u001b[1;33m.\u001b[0m\u001b[0mappend\u001b[0m\u001b[1;33m(\u001b[0m\u001b[1;34m\"abd\"\u001b[0m\u001b[1;33m)\u001b[0m\u001b[1;33m\u001b[0m\u001b[1;33m\u001b[0m\u001b[0m\n\u001b[0m",
      "\u001b[1;31mAttributeError\u001b[0m: 'Inventory' object has no attribute '__items'"
     ]
    }
   ],
   "source": [
    "my_inventory.__items.append(\"abd\")"
   ]
  },
  {
   "cell_type": "code",
   "execution_count": 34,
   "id": "845c26a3",
   "metadata": {},
   "outputs": [],
   "source": [
    "class Inventory:\n",
    "    def __init__(self): \n",
    "        self.__items = [] #item에 누구나 접근할 수 없도록, 완벽하게 숨겨지지는 않고 맨글링이 일어나는 것\n",
    "        \n",
    "    def add_new_item(self, product):\n",
    "        if type(product) == Product:\n",
    "            self.__items.append(product)\n",
    "            print(\"new item added\")\n",
    "        else:\n",
    "            raise ValueError(\"Invalid item\")\n",
    "            \n",
    "    def get_number_of_items(self):\n",
    "        return len(self.__items)\n",
    "    \n",
    "    @property\n",
    "    def items(self): \n",
    "        return self.__items # 이럴경우 list에 바로 접근해서 추가, 수정 가능하기때문에 보통은 바로 반환해주지 않고 복사한 후 반환해준다."
   ]
  },
  {
   "cell_type": "code",
   "execution_count": 35,
   "id": "4e54da40",
   "metadata": {},
   "outputs": [
    {
     "name": "stdout",
     "output_type": "stream",
     "text": [
      "new item added\n",
      "new item added\n"
     ]
    }
   ],
   "source": [
    "my_inventory = Inventory()\n",
    "my_inventory.add_new_item(Product())\n",
    "my_inventory.add_new_item(Product())"
   ]
  },
  {
   "cell_type": "code",
   "execution_count": 36,
   "id": "fdf25e9e",
   "metadata": {},
   "outputs": [
    {
     "data": {
      "text/plain": [
       "[<__main__.Product at 0x26a64354fa0>, <__main__.Product at 0x26a64354d90>]"
      ]
     },
     "execution_count": 36,
     "metadata": {},
     "output_type": "execute_result"
    }
   ],
   "source": [
    "my_inventory.items"
   ]
  },
  {
   "cell_type": "markdown",
   "id": "721ac499",
   "metadata": {},
   "source": [
    "# Decorate"
   ]
  },
  {
   "cell_type": "code",
   "execution_count": 38,
   "id": "385f2661",
   "metadata": {},
   "outputs": [
    {
     "data": {
      "text/plain": [
       "25"
      ]
     },
     "execution_count": 38,
     "metadata": {},
     "output_type": "execute_result"
    }
   ],
   "source": [
    "# 일급함수\n",
    "def square(x):\n",
    "    return x*x\n",
    "\n",
    "f = square # 함수를 변수로 사용\n",
    "f(5)"
   ]
  },
  {
   "cell_type": "code",
   "execution_count": 41,
   "id": "f175ba16",
   "metadata": {},
   "outputs": [],
   "source": [
    "def cube(x):\n",
    "    return x*x*x\n",
    "\n",
    "def formula(method, argument_list): # 함수를 parameter로 사용\n",
    "    return [method(value) for value in argument_list]"
   ]
  },
  {
   "cell_type": "code",
   "execution_count": 42,
   "id": "a7a26c40",
   "metadata": {},
   "outputs": [
    {
     "data": {
      "text/plain": [
       "[1, 8, 27, 64, 125]"
      ]
     },
     "execution_count": 42,
     "metadata": {},
     "output_type": "execute_result"
    }
   ],
   "source": [
    "li = [1,2,3,4,5]\n",
    "\n",
    "formula(cube, li)"
   ]
  },
  {
   "cell_type": "code",
   "execution_count": 43,
   "id": "ddd9d066",
   "metadata": {},
   "outputs": [
    {
     "name": "stdout",
     "output_type": "stream",
     "text": [
      "Hello, Python\n"
     ]
    }
   ],
   "source": [
    "#Inner Function\n",
    "def print_msg(msg):\n",
    "    def printer():\n",
    "        print(msg)\n",
    "    printer()\n",
    "    \n",
    "print_msg(\"Hello, Python\")"
   ]
  },
  {
   "cell_type": "code",
   "execution_count": 44,
   "id": "03e79111",
   "metadata": {},
   "outputs": [
    {
     "name": "stdout",
     "output_type": "stream",
     "text": [
      "Hello, Python\n"
     ]
    }
   ],
   "source": [
    "# Closures\n",
    "def print_msg(msg):\n",
    "    def printer():\n",
    "        print(msg)\n",
    "    return printer\n",
    "    \n",
    "another = print_msg(\"Hello, Python\")\n",
    "another()"
   ]
  },
  {
   "cell_type": "code",
   "execution_count": 46,
   "id": "a1ed5c96",
   "metadata": {},
   "outputs": [],
   "source": [
    "def tag_func(tag, text):\n",
    "    text = text\n",
    "    tag = tag\n",
    "    \n",
    "    def inner_func():\n",
    "        return '<{0}>{1}<{0}>'.format(tag, text)\n",
    "    \n",
    "    return inner_func\n",
    "\n",
    "h1_func = tag_func('title', 'This is Python Class')\n",
    "p_func = tag_func('p', 'Data Academy')"
   ]
  },
  {
   "cell_type": "code",
   "execution_count": 47,
   "id": "6fd965ea",
   "metadata": {},
   "outputs": [
    {
     "name": "stdout",
     "output_type": "stream",
     "text": [
      "******************************\n",
      "Hello\n",
      "******************************\n"
     ]
    }
   ],
   "source": [
    "# decorator function\n",
    "def star(func):\n",
    "    def inner(*args, **kwargs):\n",
    "        print(\"*\" * 30)\n",
    "        func(*args, **kwargs)\n",
    "        print(\"*\" * 30)\n",
    "    return inner\n",
    "\n",
    "@star\n",
    "def printer(msg):\n",
    "    print(msg)\n",
    "printer(\"Hello\")"
   ]
  },
  {
   "cell_type": "code",
   "execution_count": 48,
   "id": "ff450d7b",
   "metadata": {},
   "outputs": [],
   "source": [
    "def star(func):\n",
    "    def inner(*args, **kwargs):\n",
    "        print(\"*\" * 30)\n",
    "        func(*args, **kwargs)\n",
    "        print(\"*\" * 30)\n",
    "    return inner\n",
    "\n",
    "def percent(func):\n",
    "    def inner(*args, **kwargs):\n",
    "        print(\"%\" * 30)\n",
    "        func(*args, **kwargs)\n",
    "        print(\"%\" * 30)\n",
    "    return inner"
   ]
  },
  {
   "cell_type": "code",
   "execution_count": 49,
   "id": "4f631c80",
   "metadata": {},
   "outputs": [
    {
     "name": "stdout",
     "output_type": "stream",
     "text": [
      "******************************\n",
      "%%%%%%%%%%%%%%%%%%%%%%%%%%%%%%\n",
      "Hello\n",
      "%%%%%%%%%%%%%%%%%%%%%%%%%%%%%%\n",
      "******************************\n"
     ]
    }
   ],
   "source": [
    "@star # star 함수 안에 들어가는 func은 percent 함수\n",
    "@percent # percent 함수 안에 들어가는 func은 printer 함수\n",
    "def printer(msg):\n",
    "    print(msg)\n",
    "printer(\"Hello\")"
   ]
  }
 ],
 "metadata": {
  "kernelspec": {
   "display_name": "Python 3",
   "language": "python",
   "name": "python3"
  },
  "language_info": {
   "codemirror_mode": {
    "name": "ipython",
    "version": 3
   },
   "file_extension": ".py",
   "mimetype": "text/x-python",
   "name": "python",
   "nbconvert_exporter": "python",
   "pygments_lexer": "ipython3",
   "version": "3.8.8"
  }
 },
 "nbformat": 4,
 "nbformat_minor": 5
}
