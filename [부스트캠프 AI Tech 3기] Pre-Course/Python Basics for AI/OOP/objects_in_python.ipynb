{
 "cells": [
  {
   "cell_type": "code",
   "execution_count": 1,
   "id": "863d4e59",
   "metadata": {},
   "outputs": [],
   "source": [
    "class SoccerPlayer(object):\n",
    "    pass\n",
    "\n",
    "abc = SoccerPlayer()\n",
    "ddd = SoccerPlayer()\n",
    "bbb = SoccerPlayer()"
   ]
  },
  {
   "cell_type": "code",
   "execution_count": 2,
   "id": "a8da62d0",
   "metadata": {},
   "outputs": [
    {
     "data": {
      "text/plain": [
       "False"
      ]
     },
     "execution_count": 2,
     "metadata": {},
     "output_type": "execute_result"
    }
   ],
   "source": [
    "abc is ddd"
   ]
  },
  {
   "cell_type": "markdown",
   "id": "e9c8fa2b",
   "metadata": {},
   "source": [
    "```python\n",
    "class SoccerPlayer(object):\n",
    "    def __init__(self, name, position, back_number):\n",
    "        self.name = name\n",
    "        self.position = position\n",
    "        self.back_number = back_number\n",
    "```\n",
    "\n",
    "코드에서 변수에 대한 힌트를 주려면 변수명 뒤에 type을 적어준다."
   ]
  },
  {
   "cell_type": "code",
   "execution_count": 21,
   "id": "be4d0f98",
   "metadata": {},
   "outputs": [],
   "source": [
    "class SoccerPlayer(object):\n",
    "    def __init__(self, name : str, position : str, back_number: int):\n",
    "        self.name = name\n",
    "        self.position = position\n",
    "        self.back_number = back_number\n",
    "        \n",
    "    def __str__(self):\n",
    "        return \"Hello, My name is %s. My back number is %d\" %(self.name, self.back_number)\n",
    "    \n",
    "    def __add__(self, other):\n",
    "        return self.name + other.name\n",
    "    \n",
    "    def change_back_number(self, new_number):\n",
    "        print(\"선수의 등번호를 변경합니다 : From %d to %d\" %(self.back_number, new_number))\n",
    "        self.back_number = new_number"
   ]
  },
  {
   "cell_type": "code",
   "execution_count": 22,
   "id": "c5e93d8e",
   "metadata": {},
   "outputs": [],
   "source": [
    "abc = SoccerPlayer(\"son\", \"FW\", 7)\n",
    "park = SoccerPlayer(\"park\", \"WF\", 13)"
   ]
  },
  {
   "cell_type": "code",
   "execution_count": 16,
   "id": "e79428a9",
   "metadata": {},
   "outputs": [
    {
     "name": "stdout",
     "output_type": "stream",
     "text": [
      "Hello, My name is park. My back number is 13\n"
     ]
    }
   ],
   "source": [
    "print(park)"
   ]
  },
  {
   "cell_type": "code",
   "execution_count": 19,
   "id": "ffa77977",
   "metadata": {},
   "outputs": [
    {
     "data": {
      "text/plain": [
       "'sonpark'"
      ]
     },
     "execution_count": 19,
     "metadata": {},
     "output_type": "execute_result"
    }
   ],
   "source": [
    "abc+park"
   ]
  },
  {
   "cell_type": "code",
   "execution_count": 24,
   "id": "bc63e6bd",
   "metadata": {},
   "outputs": [
    {
     "name": "stdout",
     "output_type": "stream",
     "text": [
      "현재 선수의 등번호는 : 10\n"
     ]
    }
   ],
   "source": [
    "jinhyun = SoccerPlayer(\"Jinhyun\", \"MF\", 10)\n",
    "print(\"현재 선수의 등번호는 :\", jinhyun.back_number)"
   ]
  },
  {
   "cell_type": "code",
   "execution_count": 25,
   "id": "9b9fe06b",
   "metadata": {},
   "outputs": [
    {
     "name": "stdout",
     "output_type": "stream",
     "text": [
      "선수의 등번호를 변경합니다 : From 10 to 5\n",
      "현재 선수의 등번호는 : 5\n"
     ]
    }
   ],
   "source": [
    "jinhyun.change_back_number(5)\n",
    "print(\"현재 선수의 등번호는 :\", jinhyun.back_number)"
   ]
  }
 ],
 "metadata": {
  "kernelspec": {
   "display_name": "Python 3",
   "language": "python",
   "name": "python3"
  },
  "language_info": {
   "codemirror_mode": {
    "name": "ipython",
    "version": 3
   },
   "file_extension": ".py",
   "mimetype": "text/x-python",
   "name": "python",
   "nbconvert_exporter": "python",
   "pygments_lexer": "ipython3",
   "version": "3.8.8"
  }
 },
 "nbformat": 4,
 "nbformat_minor": 5
}
