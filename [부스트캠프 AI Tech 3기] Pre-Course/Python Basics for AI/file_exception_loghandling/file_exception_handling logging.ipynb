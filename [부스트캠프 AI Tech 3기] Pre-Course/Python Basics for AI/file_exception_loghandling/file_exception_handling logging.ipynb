{
 "cells": [
  {
   "cell_type": "markdown",
   "id": "a2acf8c0",
   "metadata": {},
   "source": [
    "# Exception"
   ]
  },
  {
   "cell_type": "code",
   "execution_count": 2,
   "id": "d8d2086e",
   "metadata": {},
   "outputs": [
    {
     "name": "stdout",
     "output_type": "stream",
     "text": [
      "integer division or modulo by zero\n",
      "Not divided by 0\n",
      "10\n",
      "5\n",
      "3\n",
      "2\n",
      "2\n",
      "1\n",
      "1\n",
      "1\n",
      "1\n"
     ]
    }
   ],
   "source": [
    "# try ~ exception\n",
    "\n",
    "for i in range(10):\n",
    "    try:\n",
    "        print(10//i)\n",
    "    except ZeroDivisionError as e:\n",
    "        print(e)\n",
    "        print(\"Not divided by 0\")"
   ]
  },
  {
   "cell_type": "code",
   "execution_count": 3,
   "id": "3c6987fe",
   "metadata": {},
   "outputs": [
    {
     "name": "stdout",
     "output_type": "stream",
     "text": [
      "integer division or modulo by zero\n",
      "Not divided by 0\n",
      "10\n",
      "2\n",
      "5\n",
      "3\n",
      "3\n",
      "4\n",
      "2\n",
      "5\n",
      "2\n",
      "list index out of range\n",
      "1\n",
      "list index out of range\n",
      "1\n",
      "list index out of range\n",
      "1\n",
      "list index out of range\n",
      "1\n",
      "list index out of range\n"
     ]
    }
   ],
   "source": [
    "a = [1,2,3,4,5]\n",
    "for i in range(10):\n",
    "    try:\n",
    "        print(10//i)\n",
    "        print(a[i])\n",
    "    except ZeroDivisionError as e:\n",
    "        print(e)\n",
    "        print(\"Not divided by 0\")\n",
    "    except IndexError as e:\n",
    "        print(e)\n",
    "    except Exception as e: # 전체 exception은 정말 좋지 않다\n",
    "        print(e)"
   ]
  },
  {
   "cell_type": "code",
   "execution_count": 8,
   "id": "89b6aaa6",
   "metadata": {},
   "outputs": [
    {
     "name": "stdout",
     "output_type": "stream",
     "text": [
      "Not divided by 0\n",
      "10\n",
      "5\n",
      "3\n",
      "2\n",
      "2\n",
      "1\n",
      "1\n",
      "1\n",
      "1\n"
     ]
    }
   ],
   "source": [
    "# try ~ exception ~ else\n",
    "\n",
    "for i in range(10):\n",
    "    try:\n",
    "        result= 10 // i\n",
    "    except ZeroDivisionError:\n",
    "        print(\"Not divided by 0\")\n",
    "    else:\n",
    "        print(10 // i)"
   ]
  },
  {
   "cell_type": "code",
   "execution_count": 9,
   "id": "220fd004",
   "metadata": {},
   "outputs": [
    {
     "name": "stdout",
     "output_type": "stream",
     "text": [
      "Not divided by 0\n",
      "0 -> 1\n",
      "10\n",
      "1 -> 10\n",
      "5\n",
      "2 -> 5\n",
      "3\n",
      "3 -> 3\n",
      "2\n",
      "4 -> 2\n",
      "2\n",
      "5 -> 2\n",
      "1\n",
      "6 -> 1\n",
      "1\n",
      "7 -> 1\n",
      "1\n",
      "8 -> 1\n",
      "1\n",
      "9 -> 1\n"
     ]
    }
   ],
   "source": [
    "# try ~ exception ~ finally\n",
    "\n",
    "for i in range(10):\n",
    "    try:\n",
    "        result= 10 // i\n",
    "    except ZeroDivisionError:\n",
    "        print(\"Not divided by 0\")\n",
    "    else:\n",
    "        print(10 // i)\n",
    "    finally: # finally는 exception이 발생해도 수행됨\n",
    "        print(i, \"->\", result)"
   ]
  },
  {
   "cell_type": "code",
   "execution_count": 12,
   "id": "c68be71a",
   "metadata": {},
   "outputs": [
    {
     "name": "stdout",
     "output_type": "stream",
     "text": [
      "변환할 정수 값을 입력해주세요1\n",
      "정수값으로 변환된 숫자 -  1\n",
      "변환할 정수 값을 입력해주세요2\n",
      "정수값으로 변환된 숫자 -  2\n",
      "변환할 정수 값을 입력해주세요ㅇ\n"
     ]
    },
    {
     "ename": "ValueError",
     "evalue": "숫자를 입력하지 않으셨습니다",
     "output_type": "error",
     "traceback": [
      "\u001b[1;31m---------------------------------------------------------------------------\u001b[0m",
      "\u001b[1;31mValueError\u001b[0m                                Traceback (most recent call last)",
      "\u001b[1;32m<ipython-input-12-3fbb54b1217d>\u001b[0m in \u001b[0;36m<module>\u001b[1;34m\u001b[0m\n\u001b[0;32m      5\u001b[0m     \u001b[1;32mfor\u001b[0m \u001b[0mdigit\u001b[0m \u001b[1;32min\u001b[0m \u001b[0mvalue\u001b[0m\u001b[1;33m:\u001b[0m\u001b[1;33m\u001b[0m\u001b[1;33m\u001b[0m\u001b[0m\n\u001b[0;32m      6\u001b[0m         \u001b[1;32mif\u001b[0m \u001b[0mdigit\u001b[0m \u001b[1;32mnot\u001b[0m \u001b[1;32min\u001b[0m \u001b[1;34m\"0123456789\"\u001b[0m\u001b[1;33m:\u001b[0m\u001b[1;33m\u001b[0m\u001b[1;33m\u001b[0m\u001b[0m\n\u001b[1;32m----> 7\u001b[1;33m             \u001b[1;32mraise\u001b[0m \u001b[0mValueError\u001b[0m\u001b[1;33m(\u001b[0m\u001b[1;34m\"숫자를 입력하지 않으셨습니다\"\u001b[0m\u001b[1;33m)\u001b[0m\u001b[1;33m\u001b[0m\u001b[1;33m\u001b[0m\u001b[0m\n\u001b[0m\u001b[0;32m      8\u001b[0m     \u001b[0mprint\u001b[0m\u001b[1;33m(\u001b[0m\u001b[1;34m\"정수값으로 변환된 숫자 - \"\u001b[0m\u001b[1;33m,\u001b[0m \u001b[0mint\u001b[0m\u001b[1;33m(\u001b[0m\u001b[0mvalue\u001b[0m\u001b[1;33m)\u001b[0m\u001b[1;33m)\u001b[0m\u001b[1;33m\u001b[0m\u001b[1;33m\u001b[0m\u001b[0m\n",
      "\u001b[1;31mValueError\u001b[0m: 숫자를 입력하지 않으셨습니다"
     ]
    }
   ],
   "source": [
    "# raise 구문\n",
    "\n",
    "while True:\n",
    "    value= input(\"변환할 정수 값을 입력해주세요\")\n",
    "    for digit in value:\n",
    "        if digit not in \"0123456789\":\n",
    "            raise ValueError(\"숫자를 입력하지 않으셨습니다\")\n",
    "    print(\"정수값으로 변환된 숫자 - \", int(value))"
   ]
  },
  {
   "cell_type": "code",
   "execution_count": 14,
   "id": "346e6b44",
   "metadata": {},
   "outputs": [
    {
     "ename": "AssertionError",
     "evalue": "",
     "output_type": "error",
     "traceback": [
      "\u001b[1;31m---------------------------------------------------------------------------\u001b[0m",
      "\u001b[1;31mAssertionError\u001b[0m                            Traceback (most recent call last)",
      "\u001b[1;32m<ipython-input-14-351b3d221bf2>\u001b[0m in \u001b[0;36m<module>\u001b[1;34m\u001b[0m\n\u001b[0;32m      5\u001b[0m     \u001b[1;32mreturn\u001b[0m \u001b[0mbin\u001b[0m\u001b[1;33m(\u001b[0m\u001b[0mdecimal_number\u001b[0m\u001b[1;33m)\u001b[0m\u001b[1;33m\u001b[0m\u001b[1;33m\u001b[0m\u001b[0m\n\u001b[0;32m      6\u001b[0m \u001b[1;33m\u001b[0m\u001b[0m\n\u001b[1;32m----> 7\u001b[1;33m \u001b[0mprint\u001b[0m\u001b[1;33m(\u001b[0m\u001b[0mget_binary_nmubmer\u001b[0m\u001b[1;33m(\u001b[0m\u001b[1;36m10.0\u001b[0m\u001b[1;33m)\u001b[0m\u001b[1;33m)\u001b[0m\u001b[1;33m\u001b[0m\u001b[1;33m\u001b[0m\u001b[0m\n\u001b[0m",
      "\u001b[1;32m<ipython-input-14-351b3d221bf2>\u001b[0m in \u001b[0;36mget_binary_nmubmer\u001b[1;34m(decimal_number)\u001b[0m\n\u001b[0;32m      2\u001b[0m \u001b[1;33m\u001b[0m\u001b[0m\n\u001b[0;32m      3\u001b[0m \u001b[1;32mdef\u001b[0m \u001b[0mget_binary_nmubmer\u001b[0m\u001b[1;33m(\u001b[0m\u001b[0mdecimal_number\u001b[0m\u001b[1;33m)\u001b[0m\u001b[1;33m:\u001b[0m\u001b[1;33m\u001b[0m\u001b[1;33m\u001b[0m\u001b[0m\n\u001b[1;32m----> 4\u001b[1;33m     \u001b[1;32massert\u001b[0m \u001b[0misinstance\u001b[0m\u001b[1;33m(\u001b[0m\u001b[0mdecimal_number\u001b[0m\u001b[1;33m,\u001b[0m \u001b[0mint\u001b[0m\u001b[1;33m)\u001b[0m\u001b[1;33m\u001b[0m\u001b[1;33m\u001b[0m\u001b[0m\n\u001b[0m\u001b[0;32m      5\u001b[0m     \u001b[1;32mreturn\u001b[0m \u001b[0mbin\u001b[0m\u001b[1;33m(\u001b[0m\u001b[0mdecimal_number\u001b[0m\u001b[1;33m)\u001b[0m\u001b[1;33m\u001b[0m\u001b[1;33m\u001b[0m\u001b[0m\n\u001b[0;32m      6\u001b[0m \u001b[1;33m\u001b[0m\u001b[0m\n",
      "\u001b[1;31mAssertionError\u001b[0m: "
     ]
    }
   ],
   "source": [
    "# assert 구문\n",
    "\n",
    "def get_binary_nmubmer(decimal_number): \n",
    "    assert isinstance(decimal_number, int)\n",
    "    return bin(decimal_number)\n",
    "\n",
    "print(get_binary_nmubmer(10.0))"
   ]
  },
  {
   "cell_type": "markdown",
   "id": "693ab3b8",
   "metadata": {},
   "source": [
    "# File Handling"
   ]
  },
  {
   "cell_type": "code",
   "execution_count": 19,
   "id": "7731f392",
   "metadata": {},
   "outputs": [
    {
     "name": "stdout",
     "output_type": "stream",
     "text": [
      "대체로 흐림\n",
      "검색을하려면 여기에 입력하십시오.\n",
      "오후두시오십삼분\n",
      "이천이십일년십일월십일\n"
     ]
    }
   ],
   "source": [
    "# File Read\n",
    "\n",
    "f = open(\"testtext.txt\", \"r\", encoding='UTF8')\n",
    "contents = f.read()\n",
    "print(contents)\n",
    "f.close()"
   ]
  },
  {
   "cell_type": "code",
   "execution_count": 22,
   "id": "501f38c5",
   "metadata": {},
   "outputs": [
    {
     "name": "stdout",
     "output_type": "stream",
     "text": [
      "<class 'str'> 대체로 흐림\n",
      "검색을하려면 여기에 입력하십시오.\n",
      "오후두시오십삼분\n",
      "이천이십일년십일월십일\n"
     ]
    }
   ],
   "source": [
    "# with 구문 사용하기\n",
    "\n",
    "with open(\"testtext.txt\", \"r\", encoding=\"UTF8\") as my_file:\n",
    "    contents = my_file.read()\n",
    "    print(type(contents), contents)"
   ]
  },
  {
   "cell_type": "code",
   "execution_count": 23,
   "id": "4821ec81",
   "metadata": {},
   "outputs": [
    {
     "name": "stdout",
     "output_type": "stream",
     "text": [
      "<class 'list'>\n",
      "['대체로 흐림\\n', '검색을하려면 여기에 입력하십시오.\\n', '오후두시오십삼분\\n', '이천이십일년십일월십일']\n"
     ]
    }
   ],
   "source": [
    "# 한 줄 씩 읽기\n",
    "\n",
    "with open(\"testtext.txt\", \"r\", encoding=\"UTF8\") as my_file:\n",
    "    content_list = my_file.readlines()\n",
    "    print(type(content_list))\n",
    "    print(content_list)"
   ]
  },
  {
   "cell_type": "code",
   "execution_count": 24,
   "id": "913e3dda",
   "metadata": {},
   "outputs": [
    {
     "name": "stdout",
     "output_type": "stream",
     "text": [
      "0===대체로 흐림 \n",
      "1===검색을하려면 여기에 입력하십시오. \n",
      "2===오후두시오십삼분 \n",
      "3===이천이십일년십일월십일\n"
     ]
    }
   ],
   "source": [
    "# 실행 시마다 한 줄 씩 읽기\n",
    "\n",
    "with open(\"testtext.txt\", \"r\", encoding=\"UTF8\") as my_file:\n",
    "    i=0\n",
    "    while True:\n",
    "        line = my_file.readline()\n",
    "        if not line:\n",
    "            break\n",
    "        print(str(i) + \"===\" + line.replace(\"\\n\", \" \"))\n",
    "        i += 1"
   ]
  },
  {
   "cell_type": "code",
   "execution_count": 25,
   "id": "5d5b0c04",
   "metadata": {},
   "outputs": [
    {
     "name": "stdout",
     "output_type": "stream",
     "text": [
      "Total Number of Characters:  46\n",
      "Total Number of Words:  4\n",
      "Total Number of Lines:  4\n"
     ]
    }
   ],
   "source": [
    "with open(\"testtext.txt\", \"r\", encoding=\"UTF8\") as my_file:\n",
    "    contents = my_file.read()\n",
    "    word_list = contents.split(\" \")\n",
    "    line_list = contents.split(\"\\n\")\n",
    "    \n",
    "print(\"Total Number of Characters: \", len(contents))\n",
    "print(\"Total Number of Words: \", len(word_list))\n",
    "print(\"Total Number of Lines: \", len(line_list))"
   ]
  },
  {
   "cell_type": "code",
   "execution_count": 26,
   "id": "0d88c500",
   "metadata": {},
   "outputs": [],
   "source": [
    "# File Write\n",
    "\n",
    "f= open(\"count_log.txt\", 'w', encoding=\"utf8\")\n",
    "for i in range(1, 11):\n",
    "    data= \"%d번째줄입니다.\\n\" % i\n",
    "    f.write(data)\n",
    "f.close()"
   ]
  },
  {
   "cell_type": "code",
   "execution_count": 27,
   "id": "5af59142",
   "metadata": {},
   "outputs": [],
   "source": [
    "with open(\"count_log.txt\", 'a', encoding=\"utf8\") as f:\n",
    "    for i in range(11, 21):\n",
    "        data= \"%d번째줄입니다.\\n\" % i\n",
    "        f.write(data)"
   ]
  },
  {
   "cell_type": "code",
   "execution_count": 30,
   "id": "efc73ac9",
   "metadata": {},
   "outputs": [],
   "source": [
    "# directory 다루기\n",
    "\n",
    "import os\n",
    "\n",
    "if not os.path.isdir(\"log\"):\n",
    "    os.mkdir(\"log\")"
   ]
  },
  {
   "cell_type": "code",
   "execution_count": 31,
   "id": "ef3ff4bb",
   "metadata": {},
   "outputs": [
    {
     "data": {
      "text/plain": [
       "WindowsPath('C:/Users/didgo/bora/naver_boostcourse/precourse/python/file_exception_loghandling')"
      ]
     },
     "execution_count": 31,
     "metadata": {},
     "output_type": "execute_result"
    }
   ],
   "source": [
    "import pathlib\n",
    "\n",
    "cwd = pathlib.Path.cwd()\n",
    "cwd"
   ]
  },
  {
   "cell_type": "code",
   "execution_count": 32,
   "id": "a653f1af",
   "metadata": {},
   "outputs": [
    {
     "data": {
      "text/plain": [
       "WindowsPath('C:/Users/didgo/bora/naver_boostcourse/precourse/python')"
      ]
     },
     "execution_count": 32,
     "metadata": {},
     "output_type": "execute_result"
    }
   ],
   "source": [
    "cwd.parent"
   ]
  },
  {
   "cell_type": "code",
   "execution_count": 33,
   "id": "65d35884",
   "metadata": {},
   "outputs": [
    {
     "data": {
      "text/plain": [
       "WindowsPath('C:/Users/didgo/bora/naver_boostcourse/precourse')"
      ]
     },
     "execution_count": 33,
     "metadata": {},
     "output_type": "execute_result"
    }
   ],
   "source": [
    "cwd.parent.parent"
   ]
  },
  {
   "cell_type": "code",
   "execution_count": 34,
   "id": "abfeab2f",
   "metadata": {},
   "outputs": [
    {
     "data": {
      "text/plain": [
       "[WindowsPath('C:/Users/didgo/bora/naver_boostcourse/precourse/python'),\n",
       " WindowsPath('C:/Users/didgo/bora/naver_boostcourse/precourse'),\n",
       " WindowsPath('C:/Users/didgo/bora/naver_boostcourse'),\n",
       " WindowsPath('C:/Users/didgo/bora'),\n",
       " WindowsPath('C:/Users/didgo'),\n",
       " WindowsPath('C:/Users'),\n",
       " WindowsPath('C:/')]"
      ]
     },
     "execution_count": 34,
     "metadata": {},
     "output_type": "execute_result"
    }
   ],
   "source": [
    "list(cwd.parents)"
   ]
  },
  {
   "cell_type": "code",
   "execution_count": 36,
   "id": "5be6f6c8",
   "metadata": {},
   "outputs": [
    {
     "data": {
      "text/plain": [
       "[WindowsPath('C:/Users/didgo/bora/naver_boostcourse/precourse/python/file_exception_loghandling/.ipynb_checkpoints'),\n",
       " WindowsPath('C:/Users/didgo/bora/naver_boostcourse/precourse/python/file_exception_loghandling/count_log.txt'),\n",
       " WindowsPath('C:/Users/didgo/bora/naver_boostcourse/precourse/python/file_exception_loghandling/file_exception_handling logging.ipynb'),\n",
       " WindowsPath('C:/Users/didgo/bora/naver_boostcourse/precourse/python/file_exception_loghandling/log'),\n",
       " WindowsPath('C:/Users/didgo/bora/naver_boostcourse/precourse/python/file_exception_loghandling/testtext.txt'),\n",
       " WindowsPath('C:/Users/didgo/bora/naver_boostcourse/precourse/python/file_exception_loghandling/[Python] 5-1. file_exception_handling_logging.pdf')]"
      ]
     },
     "execution_count": 36,
     "metadata": {},
     "output_type": "execute_result"
    }
   ],
   "source": [
    "list(cwd.glob(\"*\"))"
   ]
  },
  {
   "cell_type": "code",
   "execution_count": 37,
   "id": "808ad547",
   "metadata": {},
   "outputs": [],
   "source": [
    "import os\n",
    "\n",
    "if not os.path.isdir(\"log\"):\n",
    "    os.mkdir(\"log\")\n",
    "    \n",
    "if not os.path.exists(\"log/count_log.txt\"):\n",
    "    f= open(\"log/count_log.txt\", 'w', encoding=\"utf8\")\n",
    "    f.write(\"기록이시작됩니다\\n\")\n",
    "    f.close()\n",
    "    \n",
    "with open(\"log/count_log.txt\", 'a', encoding=\"utf8\") as f:\n",
    "    import random, datetime\n",
    "    for i in range(1, 11):\n",
    "        stamp= str(datetime.datetime.now())\n",
    "        value= random.random() * 1000000\n",
    "        log_line= stamp+ \"\\t\" + str(value) +\"값이생성되었습니다\" + \"\\n\"\n",
    "        f.write(log_line)"
   ]
  },
  {
   "cell_type": "code",
   "execution_count": 41,
   "id": "3222ccbc",
   "metadata": {},
   "outputs": [
    {
     "data": {
      "text/plain": [
       "50"
      ]
     },
     "execution_count": 41,
     "metadata": {},
     "output_type": "execute_result"
    }
   ],
   "source": [
    "# pickle\n",
    "\n",
    "import pickle\n",
    "\n",
    "class Mutltiply(object):\n",
    "    def __init__(self, multiplier):\n",
    "        self.multiplier = multiplier\n",
    "        \n",
    "    def multiply(self, number):\n",
    "        return number * self.multiplier\n",
    "    \n",
    "multiply = Mutltiply(5)\n",
    "multiply.multiply(10)"
   ]
  },
  {
   "cell_type": "code",
   "execution_count": 42,
   "id": "b584cd80",
   "metadata": {},
   "outputs": [],
   "source": [
    "f = open(\"multiply_object.pickle\", \"wb\")\n",
    "pickle.dump(multiply, f)\n",
    "f.close()"
   ]
  },
  {
   "cell_type": "code",
   "execution_count": 43,
   "id": "a0cb41fa",
   "metadata": {},
   "outputs": [
    {
     "data": {
      "text/plain": [
       "25"
      ]
     },
     "execution_count": 43,
     "metadata": {},
     "output_type": "execute_result"
    }
   ],
   "source": [
    "f = open(\"multiply_object.pickle\", \"rb\")\n",
    "multiply_pickle = pickle.load(f)\n",
    "multiply_pickle.multiply(5)"
   ]
  },
  {
   "cell_type": "markdown",
   "id": "53eee5d3",
   "metadata": {},
   "source": [
    "# Logging Handling"
   ]
  },
  {
   "cell_type": "code",
   "execution_count": null,
   "id": "33167130",
   "metadata": {},
   "outputs": [],
   "source": []
  }
 ],
 "metadata": {
  "kernelspec": {
   "display_name": "Python 3",
   "language": "python",
   "name": "python3"
  },
  "language_info": {
   "codemirror_mode": {
    "name": "ipython",
    "version": 3
   },
   "file_extension": ".py",
   "mimetype": "text/x-python",
   "name": "python",
   "nbconvert_exporter": "python",
   "pygments_lexer": "ipython3",
   "version": "3.8.8"
  }
 },
 "nbformat": 4,
 "nbformat_minor": 5
}
