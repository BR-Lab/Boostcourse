{
 "cells": [
  {
   "cell_type": "markdown",
   "id": "83533558",
   "metadata": {},
   "source": [
    "# 미분"
   ]
  },
  {
   "cell_type": "code",
   "execution_count": 1,
   "id": "83b62ef2",
   "metadata": {},
   "outputs": [
    {
     "data": {
      "text/latex": [
       "$\\displaystyle \\operatorname{Poly}{\\left( 2 x + 2, x, domain=\\mathbb{Z} \\right)}$"
      ],
      "text/plain": [
       "Poly(2*x + 2, x, domain='ZZ')"
      ]
     },
     "execution_count": 1,
     "metadata": {},
     "output_type": "execute_result"
    }
   ],
   "source": [
    "import sympy as sym\n",
    "from sympy.abc import x\n",
    "\n",
    "sym.diff(sym.poly(x**2+2*x+3))"
   ]
  },
  {
   "cell_type": "markdown",
   "id": "6cb73e78",
   "metadata": {},
   "source": [
    "# 경사하강법(Gradient Descent) - one-variable\n",
    "\n",
    "Input: gradient, init, lr, eps, Output: var<br/>\n",
    "———————————————————————————————————————————\n",
    "#gradient: 미분을 계산하는 함수<br/>\n",
    "#init: 시작점, lr: 학습률, eps: 알고리즘 종료조건<br/>\n",
    "<br/>\n",
    "var = init<br/>\n",
    "grad = gradient(var)<br/>\n",
    "while(abs(grad) > eps): #컴퓨터는 정확히 0이 되는 것이 불가능 하므로 기준이 되는 작은 eps 설정해야함<br/>\n",
    "var = var - lr * grad #학습률인 lr을 조절해 업데이트 속도 조절<br/>\n",
    "grad = gradient(var) #종료조건이 성립하기 전까지 미분값 계속 업데이트"
   ]
  },
  {
   "cell_type": "code",
   "execution_count": 2,
   "id": "a0ca29ef",
   "metadata": {},
   "outputs": [
    {
     "name": "stdout",
     "output_type": "stream",
     "text": [
      "함수: Poly(x**2 + 2*x + 3, x, domain='ZZ'), 연산횟수: 592, 최소점: (-1.00000495699560, 2.00000000002457)\n"
     ]
    }
   ],
   "source": [
    "# one-variable\n",
    "import numpy as np\n",
    "\n",
    "def func(val):\n",
    "    fun = sym.poly(x**2+2*x+3)\n",
    "    return fun.subs(x, val), fun\n",
    "\n",
    "def func_gradient(fun, val):\n",
    "    _, function = fun(val)\n",
    "    diff = sym.diff(function, x)\n",
    "    return diff.subs(x,val), diff\n",
    "\n",
    "def gradient_descent(fun, init_point, lr_rate = 1e-2, epsilon = 1e-5):\n",
    "    cnt = 0\n",
    "    val = init_point\n",
    "    diff, _ = func_gradient(fun, init_point)\n",
    "    \n",
    "    while np.abs(diff) > epsilon:\n",
    "        val = val-lr_rate*diff\n",
    "        diff, _ = func_gradient(fun, val)\n",
    "        cnt += 1\n",
    "        \n",
    "    print(\"함수: {}, 연산횟수: {}, 최소점: ({}, {})\".format(fun(val)[1], cnt, val, fun(val)[0]))\n",
    "    \n",
    "gradient_descent(fun=func, init_point=np.random.uniform(-2,2))"
   ]
  },
  {
   "cell_type": "markdown",
   "id": "749eda72",
   "metadata": {},
   "source": [
    "# 편미분"
   ]
  },
  {
   "cell_type": "code",
   "execution_count": 3,
   "id": "5be4d151",
   "metadata": {},
   "outputs": [
    {
     "name": "stdout",
     "output_type": "stream",
     "text": [
      "2*x + 2*y - sin(x + 2*y)\n",
      "2*x - 2*sin(x + 2*y)\n"
     ]
    },
    {
     "name": "stderr",
     "output_type": "stream",
     "text": [
      "C:\\Users\\didgo\\anaconda3\\lib\\site-packages\\sympy\\polys\\polytools.py:75: SymPyDeprecationWarning: \n",
      "\n",
      "Mixing Poly with non-polynomial expressions in binary operations has\n",
      "been deprecated since SymPy 1.6. Use the as_expr or as_poly method to\n",
      "convert types instead. See https://github.com/sympy/sympy/issues/18613\n",
      "for more info.\n",
      "\n",
      "  SymPyDeprecationWarning(\n"
     ]
    }
   ],
   "source": [
    "import sympy as sym\n",
    "from sympy.abc import x,y\n",
    "\n",
    "print(sym.diff(sym.poly(x**2+2*x*y+3)+sym.cos(x+2*y), x))\n",
    "print(sym.diff(sym.poly(x**2+2*x*y+3)+sym.cos(x+2*y), y))"
   ]
  },
  {
   "cell_type": "markdown",
   "id": "0b812dc9",
   "metadata": {},
   "source": [
    "# 경사하강법 - multi-variable\n",
    "\n",
    "Input: gradient, init, lr, eps, Output: var<br/>\n",
    "———————————————————————————————————————————\n",
    "#gradient: 그레디언트 벡터를 계산하는 함수<br/>\n",
    "#init: 시작점, lr: 학습률, eps: 알고리즘 종료조건<br/>\n",
    "<br/>\n",
    "var = init<br/>\n",
    "grad = gradient(var)<br/>\n",
    "while(norm(grad) > eps):<br/>\n",
    "　\tvar = var - lr * grad<br/>\n",
    "　\tgrad = gradient(var)"
   ]
  },
  {
   "cell_type": "code",
   "execution_count": 5,
   "id": "8e40b979",
   "metadata": {},
   "outputs": [
    {
     "name": "stdout",
     "output_type": "stream",
     "text": [
      "함수: Poly(x**2 + 2*y**2, x, y, domain='ZZ'), 연산횟수: 637, 최소점: ([-4.96269797e-06 -2.44462134e-12], 2.46283711786907E-11)\n"
     ]
    }
   ],
   "source": [
    "# multi-variable\n",
    "import numpy as np\n",
    "\n",
    "def eval_(fun, val):\n",
    "    val_x, val_y = val\n",
    "    fun_eval = fun.subs(x, val_x).subs(y, val_y)\n",
    "    return fun_eval\n",
    "\n",
    "def func_multi(val):\n",
    "    x_, y_ = val\n",
    "    func = sym.poly(x**2+2*y**2)\n",
    "    return eval_(func, [x_, y_]), func\n",
    "\n",
    "def func_gradient(fun, val):\n",
    "    x_, y_ = val\n",
    "    _, function = func_multi(val)\n",
    "    diff_x = sym.diff(function, x)\n",
    "    diff_y = sym.diff(function, y)\n",
    "    grad_vec = np.array([eval_(diff_x, [x_, y_]), eval_(diff_y, [x_, y_])], dtype=float)\n",
    "    return grad_vec, [diff_x, diff_y]\n",
    "\n",
    "def gradient_descent(fun, init_point, lr_rate = 1e-2, epsilon = 1e-5):\n",
    "    cnt = 0\n",
    "    val = init_point\n",
    "    diff, _ = func_gradient(fun, val)\n",
    "    \n",
    "    while np.linalg.norm(diff) > epsilon:\n",
    "        val = val-lr_rate*diff\n",
    "        diff, _ = func_gradient(fun, val)\n",
    "        cnt += 1\n",
    "        \n",
    "    print(\"함수: {}, 연산횟수: {}, 최소점: ({}, {})\".format(func_multi(val)[1], cnt, val, func_multi(val)[0]))\n",
    "    \n",
    "pt = [np.random.uniform(-2,2), np.random.uniform(-2,2)]\n",
    "gradient_descent(fun=func_multi, init_point=pt)"
   ]
  }
 ],
 "metadata": {
  "kernelspec": {
   "display_name": "Python 3",
   "language": "python",
   "name": "python3"
  },
  "language_info": {
   "codemirror_mode": {
    "name": "ipython",
    "version": 3
   },
   "file_extension": ".py",
   "mimetype": "text/x-python",
   "name": "python",
   "nbconvert_exporter": "python",
   "pygments_lexer": "ipython3",
   "version": "3.8.8"
  }
 },
 "nbformat": 4,
 "nbformat_minor": 5
}
